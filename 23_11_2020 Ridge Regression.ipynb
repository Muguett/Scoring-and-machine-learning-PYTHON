{
 "cells": [
  {
   "cell_type": "markdown",
   "metadata": {},
   "source": [
    "https://www.datatechnotes.com/2019/07/ridge-regression-example-in-python.html"
   ]
  },
  {
   "cell_type": "code",
   "execution_count": 1,
   "metadata": {},
   "outputs": [],
   "source": [
    "from sklearn.datasets import load_boston\n",
    "from sklearn.linear_model import ElasticNet, ElasticNetCV\n",
    "from sklearn.metrics import mean_squared_error\n",
    "from sklearn.model_selection import train_test_split\n",
    "import matplotlib.pyplot as plt\n",
    "import numpy as np"
   ]
  },
  {
   "cell_type": "code",
   "execution_count": 2,
   "metadata": {},
   "outputs": [
    {
     "name": "stdout",
     "output_type": "stream",
     "text": [
      "Boston housing dataset prediction.\n"
     ]
    }
   ],
   "source": [
    "print(\"Boston housing dataset prediction.\")\n",
    "boston = load_boston()\n",
    "x, y = boston.data, boston.target\n",
    "xtrain, xtest, ytrain, ytest = train_test_split(x, y, test_size=0.15)\n",
    "\n",
    "alphas = [0.000001, 0.00001, 0.0001, 0.001, 0.01, 0.1,0.5, 1]"
   ]
  },
  {
   "cell_type": "code",
   "execution_count": 3,
   "metadata": {},
   "outputs": [
    {
     "name": "stdout",
     "output_type": "stream",
     "text": [
      "Alpha:0.000001, R2:0.741, MSE:21.89, RMSE:4.68\n",
      "Alpha:0.000010, R2:0.741, MSE:21.89, RMSE:4.68\n",
      "Alpha:0.000100, R2:0.741, MSE:21.89, RMSE:4.68\n",
      "Alpha:0.001000, R2:0.741, MSE:21.90, RMSE:4.68\n",
      "Alpha:0.010000, R2:0.740, MSE:21.92, RMSE:4.68\n",
      "Alpha:0.100000, R2:0.732, MSE:22.66, RMSE:4.76\n",
      "Alpha:0.500000, R2:0.686, MSE:26.48, RMSE:5.15\n",
      "Alpha:1.000000, R2:0.635, MSE:30.81, RMSE:5.55\n"
     ]
    }
   ],
   "source": [
    "from sklearn.linear_model import Ridge, RidgeCV\n",
    "for a in alphas:\n",
    "    model = Ridge(alpha=a, normalize=True).fit(x,y) \n",
    "    score = model.score(x, y)\n",
    "    pred_y = model.predict(x)\n",
    "    mse = mean_squared_error(y, pred_y) \n",
    "    print(\"Alpha:{0:.6f}, R2:{1:.3f}, MSE:{2:.2f}, RMSE:{3:.2f}\".format(a, score, mse, np.sqrt(mse)))"
   ]
  },
  {
   "cell_type": "markdown",
   "metadata": {},
   "source": [
    "### It's better to set normalize = True \n",
    "\n",
    " Alpha is an important factor in regularization. It defines Ridge shrinkage or regularization strength. The higher value means the stronger regularization. We don't know which value works efficiently for our regularization method. Thus we'll figure out the best alpha value by checking the model accuracy with setting multiple alpha values.\n",
    "\n",
    "alphas = [0.000001, 0.00001, 0.0001, 0.001, 0.01, 0.1,0.5, 1]\n",
    "\n",
    "We can define Ridge model by setting alfa and fit it with x, y data. Then we check the R-squared, MSE, RMSE values for each alpha.\n",
    "\n",
    "for a in alphas:\n",
    " model = Ridge(alpha=a, normalize=True).fit(x,y) \n",
    " score = model.score(x, y)\n",
    " pred_y = model.predict(x)\n",
    " mse = mean_squared_error(y, pred_y) \n",
    " print(\"Alpha:{0:.6f}, R2:{1:.3f}, MSE:{2:.2f}, RMSE:{3:.2f}\"\n",
    "    .format(a, score, mse, np.sqrt(mse)))\n",
    " \n",
    "Alpha:0.000001, R2:0.741, MSE:21.90, RMSE:4.68\n",
    "Alpha:0.000010, R2:0.741, MSE:21.90, RMSE:4.68\n",
    "Alpha:0.000100, R2:0.741, MSE:21.90, RMSE:4.68\n",
    "Alpha:0.001000, R2:0.741, MSE:21.90, RMSE:4.68\n",
    "Alpha:0.010000, R2:0.740, MSE:21.92, RMSE:4.68\n",
    "Alpha:0.100000, R2:0.732, MSE:22.66, RMSE:4.76\n",
    "Alpha:0.500000, R2:0.686, MSE:26.49, RMSE:5.15\n",
    "Alpha:1.000000, R2:0.635, MSE:30.81, RMSE:5.55 \n",
    "\n",
    "The result shows that alpha with a 0.01 is the best value we can use."
   ]
  },
  {
   "cell_type": "markdown",
   "metadata": {},
   "source": [
    "> Alpha is learning paramether \n",
    "Alpha is lamda in this formula\n",
    "'>1' how stupid larger impact than the factor it self \n",
    "mse -> mean square error \n"
   ]
  },
  {
   "cell_type": "code",
   "execution_count": 4,
   "metadata": {},
   "outputs": [
    {
     "name": "stdout",
     "output_type": "stream",
     "text": [
      "R2:0.623, MSE:36.23, RMSE:6.02\n"
     ]
    }
   ],
   "source": [
    "elastic = ElasticNet(alpha=0.01).fit(xtrain,ytrain)\n",
    "ypred = elastic.predict(xtest)\n",
    "score = elastic.score(xtest,ytest)\n",
    "mse = mean_squared_error(ytest,ypred)\n",
    "print(\"R2:{0:.3f}, MSE:{1:.2f}, RMSE:{2:.2f}\"\n",
    "   .format(score, mse,np.sqrt(mse))) "
   ]
  },
  {
   "cell_type": "code",
   "execution_count": 5,
   "metadata": {},
   "outputs": [
    {
     "data": {
      "image/png": "[encoded data removed]",
      "text/plain": [
       "<Figure size 432x288 with 1 Axes>"
      ]
     },
     "metadata": {
      "needs_background": "light"
     },
     "output_type": "display_data"
    }
   ],
   "source": [
    "x_ax = range(len(xtest))\n",
    "plt.scatter(x_ax, ytest, s=5, color=\"blue\", label=\"original\")\n",
    "plt.plot(x_ax, ypred, lw=0.8, color=\"red\", label=\"predicted\")\n",
    "plt.legend()\n",
    "plt.show()"
   ]
  },
  {
   "cell_type": "markdown",
   "metadata": {},
   "source": [
    "### Automaticly select the most appropriate alpha"
   ]
  },
  {
   "cell_type": "code",
   "execution_count": 6,
   "metadata": {},
   "outputs": [],
   "source": []
  },
  {
   "cell_type": "code",
   "execution_count": null,
   "metadata": {},
   "outputs": [],
   "source": []
  }
 ],
 "metadata": {
  "kernelspec": {
   "display_name": "Python 3",
   "language": "python",
   "name": "python3"
  },
  "language_info": {
   "codemirror_mode": {
    "name": "ipython",
    "version": 3
   },
   "file_extension": ".py",
   "mimetype": "text/x-python",
   "name": "python",
   "nbconvert_exporter": "python",
   "pygments_lexer": "ipython3",
   "version": "3.8.3"
  }
 },
 "nbformat": 4,
 "nbformat_minor": 4
}
