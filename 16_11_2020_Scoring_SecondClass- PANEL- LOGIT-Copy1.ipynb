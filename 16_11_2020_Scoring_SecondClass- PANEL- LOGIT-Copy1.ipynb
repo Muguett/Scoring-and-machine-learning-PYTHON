{
 "cells": [
  {
   "cell_type": "code",
   "execution_count": 1,
   "metadata": {},
   "outputs": [],
   "source": [
    "##Panel Regression"
   ]
  },
  {
   "cell_type": "code",
   "execution_count": 10,
   "metadata": {},
   "outputs": [
    {
     "name": "stdout",
     "output_type": "stream",
     "text": [
      "Collecting linearmodels\n",
      "\u001b[33m  Cache entry deserialization failed, entry ignored\u001b[0m\n",
      "  Using cached https://files.pythonhosted.org/packages/f3/3d/5e9b094c323506e15958bf0c9352d616ca6aa9582017f2dc81a062662a0e/linearmodels-4.14-py2.py3-none-any.whl\n",
      "Collecting numpy>=1.14 (from linearmodels)\n",
      "  Using cached https://files.pythonhosted.org/packages/09/96/84cf406fe7d589f3dba9fc0f737e65985a3526c6d8c783f02d4b5a10825d/numpy-1.16.6-cp27-cp27m-macosx_10_9_x86_64.whl\n",
      "Collecting property-cached>=1.6.3 (from linearmodels)\n",
      "  Using cached https://files.pythonhosted.org/packages/c0/11/6e91ff5fe0476492f023cebad434a1a34fc513cfa98ddb1f3e5c856d2d99/property_cached-1.6.3-py2.py3-none-any.whl\n",
      "Collecting pandas>=0.22 (from linearmodels)\n",
      "  Using cached https://files.pythonhosted.org/packages/52/ff/912fe03a623a70bcf297d466013a0b4f4c68c3b60f86bf226682d061fc09/pandas-0.24.2-cp27-cp27m-macosx_10_6_intel.macosx_10_9_intel.macosx_10_9_x86_64.macosx_10_10_intel.macosx_10_10_x86_64.whl\n",
      "Collecting statsmodels>=0.9 (from linearmodels)\n",
      "  Using cached https://files.pythonhosted.org/packages/53/1c/b83f6a4632b502a20b0f83bc5c25ebfa03eebd00efe9b45fcdcde1a0ab40/statsmodels-0.11.0.tar.gz\n",
      "    Complete output from command python setup.py egg_info:\n",
      "    Traceback (most recent call last):\n",
      "      File \"<string>\", line 1, in <module>\n",
      "      File \"/private/var/folders/bv/v7mk3_3x7vs9wtz3fyz7k7180000gn/T/pip-build-hvzuzA/statsmodels/setup.py\", line 56, in <module>\n",
      "        raise RuntimeError(REQ_NOT_MET_MSG.format(key, ver, req_ver))\n",
      "    RuntimeError:\n",
      "    scipy is installed but older (0.13.0b1) than required (1.0). You must manually\n",
      "    upgrade scipy before installing or install into a fresh virtualenv.\n",
      "    \n",
      "    \n",
      "    ----------------------------------------\n",
      "\u001b[31mCommand \"python setup.py egg_info\" failed with error code 1 in /private/var/folders/bv/v7mk3_3x7vs9wtz3fyz7k7180000gn/T/pip-build-hvzuzA/statsmodels/\u001b[0m\n",
      "\u001b[33mYou are using pip version 9.0.1, however version 20.2.4 is available.\n",
      "You should consider upgrading via the 'pip install --upgrade pip' command.\u001b[0m\n"
     ]
    }
   ],
   "source": [
    "!pip install linearmodels"
   ]
  },
  {
   "cell_type": "code",
   "execution_count": 1,
   "metadata": {},
   "outputs": [],
   "source": [
    "#pip install --upgrade pip"
   ]
  },
  {
   "cell_type": "markdown",
   "metadata": {},
   "source": [
    "#time dimension comes in "
   ]
  },
  {
   "cell_type": "markdown",
   "metadata": {},
   "source": [
    "random effect -> within and between estimations\n",
    "the fixed -> it captures variable do not change over time at different level -> use it if var are corr\n",
    "random effect -> unobserved var are not corr we use random effect \n",
    "\n",
    "all the different factors \n",
    "fixed-> what do not observed is not correlated ?"
   ]
  },
  {
   "cell_type": "code",
   "execution_count": 15,
   "metadata": {},
   "outputs": [],
   "source": [
    "import numpy as np\n",
    "import pandas as pd\n",
    "import statsmodels.api as sm\n",
    "import statsmodels.formula.api as smf\n",
    "from linearmodels import PanelOLS\n",
    "from linearmodels import RandomEffects"
   ]
  },
  {
   "cell_type": "code",
   "execution_count": 16,
   "metadata": {},
   "outputs": [],
   "source": [
    "from linearmodels.datasets import jobtraining\n",
    "data = jobtraining.load()\n",
    "year = pd.Categorical(data.year)\n",
    "data = data.set_index(['fcode','year']) #set the index, function from pd ß\n",
    "data['year'] = year \n"
   ]
  },
  {
   "cell_type": "code",
   "execution_count": 13,
   "metadata": {},
   "outputs": [
    {
     "name": "stdout",
     "output_type": "stream",
     "text": [
      "             employ       sales   avgsal  scrap  rework  tothrs  union  grant  \\\n",
      "fcode  year                                                                     \n",
      "410032 1987   100.0  47000000.0  35000.0    NaN     NaN    12.0      0      0   \n",
      "       1988   131.0  43000000.0  37000.0    NaN     NaN     8.0      0      0   \n",
      "       1989   123.0  49000000.0  39000.0    NaN     NaN     8.0      0      0   \n",
      "410440 1987    12.0   1560000.0  10500.0    NaN     NaN    12.0      0      0   \n",
      "       1988    13.0   1970000.0  11000.0    NaN     NaN    12.0      0      0   \n",
      "...             ...         ...      ...    ...     ...     ...    ...    ...   \n",
      "419483 1988   108.0  11500000.0  14810.0   25.0     NaN     0.0      1      0   \n",
      "       1989   129.0  12000000.0  14227.0   30.0     NaN    20.0      1      0   \n",
      "419486 1987    80.0   7000000.0  16000.0    NaN     NaN     0.0      0      0   \n",
      "       1988    90.0   8500000.0  17000.0    NaN     NaN     0.0      0      0   \n",
      "       1989   100.0   9900000.0  18000.0    NaN     NaN    40.0      0      1   \n",
      "\n",
      "             d89  d88  ...   clscrap  cgrant  clemploy   clsales    lavgsal  \\\n",
      "fcode  year            ...                                                    \n",
      "410032 1987    0    0  ...       NaN       0       NaN       NaN  10.463100   \n",
      "       1988    0    1  ...       NaN       0  0.270027 -0.088949  10.518670   \n",
      "       1989    1    0  ...       NaN       0 -0.063013  0.130621  10.571320   \n",
      "410440 1987    0    0  ...       NaN       0       NaN       NaN   9.259130   \n",
      "       1988    0    1  ...       NaN       0  0.080043  0.233347   9.305651   \n",
      "...          ...  ...  ...       ...     ...       ...       ...        ...   \n",
      "419483 1988    0    1  ...  0.223144       0 -0.208218  0.044453   9.603058   \n",
      "       1989    1    0  ...  0.182321       0  0.177681  0.042559   9.562897   \n",
      "419486 1987    0    0  ...       NaN       0       NaN       NaN   9.680344   \n",
      "       1988    0    1  ...       NaN       0  0.117783  0.194157   9.740969   \n",
      "       1989    1    0  ...       NaN       1  0.105360  0.152469   9.798127   \n",
      "\n",
      "             clavgsal  cgrant_1    chrsemp  clhrsemp  year  \n",
      "fcode  year                                                 \n",
      "410032 1987       NaN       NaN        NaN       NaN  1987  \n",
      "       1988  0.055570       0.0  -8.946565 -1.165385  1988  \n",
      "       1989  0.052644       0.0   0.198597  0.047832  1989  \n",
      "410440 1987       NaN       NaN        NaN       NaN  1987  \n",
      "       1988  0.046520       0.0   0.000000  0.000000  1988  \n",
      "...               ...       ...        ...       ...   ...  \n",
      "419483 1988  0.059321       0.0   0.000000  0.000000  1988  \n",
      "       1989 -0.040161       0.0   3.100775  1.411176  1989  \n",
      "419486 1987       NaN       NaN        NaN       NaN  1987  \n",
      "       1988  0.060625       0.0   0.000000  0.000000  1988  \n",
      "       1989  0.057159       0.0  36.000000  3.610918  1989  \n",
      "\n",
      "[471 rows x 29 columns]\n"
     ]
    }
   ],
   "source": [
    "print(data)\n",
    "#clscrap -> you can not sell it becasuse its not good quality\n",
    "#cgrant -> you recieve a grant or not\n"
   ]
  },
  {
   "cell_type": "markdown",
   "metadata": {},
   "source": [
    "# Random Effect Model"
   ]
  },
  {
   "cell_type": "code",
   "execution_count": 25,
   "metadata": {},
   "outputs": [
    {
     "name": "stdout",
     "output_type": "stream",
     "text": [
      "                        RandomEffects Estimation Summary                        \n",
      "================================================================================\n",
      "Dep. Variable:                clscrap   R-squared:                        0.0165\n",
      "Estimator:              RandomEffects   R-squared (Between):              0.0314\n",
      "No. Observations:                 105   R-squared (Within):               0.0015\n",
      "Date:                Mon, Nov 16 2020   R-squared (Overall):              0.0199\n",
      "Time:                        14:52:16   Log-likelihood                   -77.721\n",
      "Cov. Estimator:            Unadjusted                                           \n",
      "                                        F-statistic:                      0.8542\n",
      "Entities:                          53   P-value                           0.4286\n",
      "Avg Obs:                       1.9811   Distribution:                   F(2,102)\n",
      "Min Obs:                       1.0000                                           \n",
      "Max Obs:                       2.0000   F-statistic (robust):             0.8634\n",
      "                                        P-value                           0.4248\n",
      "Time periods:                       2   Distribution:                   F(2,102)\n",
      "Avg Obs:                       52.500                                           \n",
      "Min Obs:                       52.000                                           \n",
      "Max Obs:                       53.000                                           \n",
      "                                                                                \n",
      "                             Parameter Estimates                              \n",
      "==============================================================================\n",
      "            Parameter  Std. Err.     T-stat    P-value    Lower CI    Upper CI\n",
      "------------------------------------------------------------------------------\n",
      "const         -0.1670     0.0892    -1.8721     0.0641     -0.3440      0.0099\n",
      "grant         -0.1471     0.1214    -1.2115     0.2285     -0.3879      0.0937\n",
      "employ        -0.0003     0.0008    -0.3893     0.6979     -0.0019      0.0013\n",
      "==============================================================================\n"
     ]
    }
   ],
   "source": [
    "exog_vars = ['grant','employ']\n",
    "exog = sm.add_constant(data[exog_vars])\n",
    "mod = RandomEffects(data['clscrap'], exog) #RandomEffects(dependent,independent)\n",
    "re_res = mod.fit()\n",
    "print(re_res)"
   ]
  },
  {
   "cell_type": "markdown",
   "metadata": {},
   "source": [
    "### explication\n",
    "these are not correlated \n",
    "unobservable varaibles are not correlated \n",
    "it doesn't seem that there is a fixed effect \n",
    "\n",
    "model is not good for us \n",
    "panel regression \n",
    "the panel regrassion is not giving \n",
    "not good data to analyse the phenomenan that using -> data not enougth \n",
    "you need to change the model -> LSTL captures secontianiritv"
   ]
  },
  {
   "cell_type": "markdown",
   "metadata": {},
   "source": [
    "#### SEE HOW TO REMOVE THE CONSTANT"
   ]
  },
  {
   "cell_type": "markdown",
   "metadata": {},
   "source": [
    "# PanelOLS Estimation Summary        "
   ]
  },
  {
   "cell_type": "markdown",
   "metadata": {},
   "source": [
    "Below the model is nothing more than an OLS, because entity_effects is False as default "
   ]
  },
  {
   "cell_type": "code",
   "execution_count": 27,
   "metadata": {},
   "outputs": [
    {
     "name": "stdout",
     "output_type": "stream",
     "text": [
      "                          PanelOLS Estimation Summary                           \n",
      "================================================================================\n",
      "Dep. Variable:                clscrap   R-squared:                        0.0205\n",
      "Estimator:                   PanelOLS   R-squared (Between):              0.0362\n",
      "No. Observations:                 105   R-squared (Within):              -0.0048\n",
      "Date:                Mon, Nov 16 2020   R-squared (Overall):              0.0205\n",
      "Time:                        14:59:22   Log-likelihood                   -91.226\n",
      "Cov. Estimator:            Unadjusted                                           \n",
      "                                        F-statistic:                      1.0653\n",
      "Entities:                          53   P-value                           0.3484\n",
      "Avg Obs:                       1.9811   Distribution:                   F(2,102)\n",
      "Min Obs:                       1.0000                                           \n",
      "Max Obs:                       2.0000   F-statistic (robust):             1.0653\n",
      "                                        P-value                           0.3484\n",
      "Time periods:                       2   Distribution:                   F(2,102)\n",
      "Avg Obs:                       52.500                                           \n",
      "Min Obs:                       52.000                                           \n",
      "Max Obs:                       53.000                                           \n",
      "                                                                                \n",
      "                             Parameter Estimates                              \n",
      "==============================================================================\n",
      "            Parameter  Std. Err.     T-stat    P-value    Lower CI    Upper CI\n",
      "------------------------------------------------------------------------------\n",
      "const         -0.1622     0.0830    -1.9546     0.0534     -0.3267      0.0024\n",
      "grant         -0.1783     0.1297    -1.3752     0.1721     -0.4356      0.0789\n",
      "employ        -0.0003     0.0007    -0.3640     0.7166     -0.0017      0.0012\n",
      "==============================================================================\n",
      "\n",
      "\n"
     ]
    }
   ],
   "source": [
    "#attention the model is not good you need to be careful about fixed effects\n",
    "#see next code \n",
    "mod2 = PanelOLS(data['clscrap'], exog) #RandomEffects(dependent,independent)\n",
    "re_res = mod2.fit()\n",
    "print(re_res)"
   ]
  },
  {
   "cell_type": "code",
   "execution_count": 29,
   "metadata": {},
   "outputs": [
    {
     "name": "stdout",
     "output_type": "stream",
     "text": [
      "                          PanelOLS Estimation Summary                           \n",
      "================================================================================\n",
      "Dep. Variable:                clscrap   R-squared:                        0.0142\n",
      "Estimator:                   PanelOLS   R-squared (Between):             -0.0927\n",
      "No. Observations:                 105   R-squared (Within):               0.0142\n",
      "Date:                Mon, Nov 16 2020   R-squared (Overall):             -0.0529\n",
      "Time:                        15:06:27   Log-likelihood                   -40.109\n",
      "Cov. Estimator:            Unadjusted                                           \n",
      "                                        F-statistic:                      0.3590\n",
      "Entities:                          53   P-value                           0.7001\n",
      "Avg Obs:                       1.9811   Distribution:                    F(2,50)\n",
      "Min Obs:                       1.0000                                           \n",
      "Max Obs:                       2.0000   F-statistic (robust):             0.3590\n",
      "                                        P-value                           0.7001\n",
      "Time periods:                       2   Distribution:                    F(2,50)\n",
      "Avg Obs:                       52.500                                           \n",
      "Min Obs:                       52.000                                           \n",
      "Max Obs:                       53.000                                           \n",
      "                                                                                \n",
      "                             Parameter Estimates                              \n",
      "==============================================================================\n",
      "            Parameter  Std. Err.     T-stat    P-value    Lower CI    Upper CI\n",
      "------------------------------------------------------------------------------\n",
      "const         -0.0579     0.2377    -0.2436     0.8086     -0.5353      0.4195\n",
      "grant         -0.0475     0.1426    -0.3327     0.7408     -0.3340      0.2391\n",
      "employ        -0.0022     0.0033    -0.6601     0.5122     -0.0088      0.0044\n",
      "==============================================================================\n",
      "\n",
      "F-test for Poolability: 1.5842\n",
      "P-value: 0.0523\n",
      "Distribution: F(52,50)\n",
      "\n",
      "Included effects: Entity\n"
     ]
    }
   ],
   "source": [
    "mod3 = PanelOLS(data['clscrap'], exog, entity_effects = True) #RandomEffects(dependent,independent)\n",
    "re_res = mod3.fit()\n",
    "print(re_res)"
   ]
  },
  {
   "cell_type": "markdown",
   "metadata": {},
   "source": [
    "### include the fixed effect on your model -> ATTENTION"
   ]
  },
  {
   "cell_type": "markdown",
   "metadata": {},
   "source": [
    "if you dont put it by default is false\n",
    "putting true it captures fixed effect if there are any in the data set\n",
    "\n",
    "there is no fixed effect in our data set \n",
    "but the model may not be a good fit"
   ]
  },
  {
   "cell_type": "markdown",
   "metadata": {},
   "source": [
    "### Equivalence of fixed effects model and dummy variable regression"
   ]
  },
  {
   "cell_type": "code",
   "execution_count": 34,
   "metadata": {},
   "outputs": [
    {
     "name": "stdout",
     "output_type": "stream",
     "text": [
      "                            OLS Regression Results                            \n",
      "==============================================================================\n",
      "Dep. Variable:                clscrap   R-squared:                       0.630\n",
      "Model:                            OLS   Adj. R-squared:                  0.230\n",
      "Method:                 Least Squares   F-statistic:                     1.577\n",
      "Date:                Mon, 16 Nov 2020   Prob (F-statistic):             0.0529\n",
      "Time:                        15:14:09   Log-Likelihood:                -40.109\n",
      "No. Observations:                 105   AIC:                             190.2\n",
      "Df Residuals:                      50   BIC:                             336.2\n",
      "Df Model:                          54                                         \n",
      "Covariance Type:            nonrobust                                         \n",
      "======================================================================================\n",
      "                         coef    std err          t      P>|t|      [0.025      0.975]\n",
      "--------------------------------------------------------------------------------------\n",
      "Intercept             -0.0558      0.233     -0.239      0.812      -0.524       0.412\n",
      "C(fcode)[T.410440]   1.72e-15   4.45e-14      0.039      0.969   -8.76e-14     9.1e-14\n",
      "C(fcode)[T.410495] -1.509e-13   1.35e-13     -1.121      0.268   -4.21e-13    1.19e-13\n",
      "C(fcode)[T.410500] -5.454e-14   5.75e-14     -0.949      0.347    -1.7e-13    6.09e-14\n",
      "C(fcode)[T.410501] -1.212e-13   1.73e-13     -0.701      0.487   -4.68e-13    2.26e-13\n",
      "C(fcode)[T.410509]  -3.02e-14   8.66e-14     -0.349      0.729   -2.04e-13    1.44e-13\n",
      "C(fcode)[T.410513] -8.682e-14   1.43e-13     -0.607      0.546   -3.74e-13       2e-13\n",
      "C(fcode)[T.410517]  1.125e-14   5.26e-14      0.214      0.831   -9.43e-14    1.17e-13\n",
      "C(fcode)[T.410518] -3.609e-14   4.54e-14     -0.795      0.431   -1.27e-13    5.51e-14\n",
      "C(fcode)[T.410521]  2.113e-14   1.19e-13      0.177      0.860   -2.18e-13    2.61e-13\n",
      "C(fcode)[T.410523]     0.1627      0.369      0.440      0.662      -0.579       0.905\n",
      "C(fcode)[T.410529]  1.974e-15   9.69e-15      0.204      0.839   -1.75e-14    2.14e-14\n",
      "C(fcode)[T.410531]  2.248e-14   9.64e-14      0.233      0.817   -1.71e-13    2.16e-13\n",
      "C(fcode)[T.410533] -4.564e-14   1.13e-13     -0.404      0.688   -2.72e-13    1.81e-13\n",
      "C(fcode)[T.410535] -5.648e-14   9.17e-14     -0.616      0.541   -2.41e-13    1.28e-13\n",
      "C(fcode)[T.410536]  3.192e-14   4.55e-14      0.701      0.487   -5.95e-14    1.23e-13\n",
      "C(fcode)[T.410538]     0.1099      0.509      0.216      0.830      -0.912       1.131\n",
      "C(fcode)[T.410540]  1.421e-15   8.31e-14      0.017      0.986   -1.65e-13    1.68e-13\n",
      "C(fcode)[T.410544]  1.901e-14   3.69e-14      0.515      0.609   -5.52e-14    9.32e-14\n",
      "C(fcode)[T.410546] -2.724e-14   3.19e-14     -0.854      0.397   -9.13e-14    3.68e-14\n",
      "C(fcode)[T.410547] -1.647e-14   1.65e-13     -0.100      0.921   -3.49e-13    3.16e-13\n",
      "C(fcode)[T.410556]  5.908e-14   1.06e-13      0.558      0.579   -1.53e-13    2.72e-13\n",
      "C(fcode)[T.410560] -7.235e-14   1.04e-13     -0.698      0.488   -2.81e-13    1.36e-13\n",
      "C(fcode)[T.410561]  1.034e-14    1.1e-14      0.940      0.352   -1.18e-14    3.24e-14\n",
      "C(fcode)[T.410562]  3.208e-15    1.8e-14      0.178      0.859   -3.29e-14    3.94e-14\n",
      "C(fcode)[T.410563]     0.1335      0.363      0.368      0.715      -0.596       0.863\n",
      "C(fcode)[T.410564]  2.116e-14   7.11e-14      0.298      0.767   -1.22e-13    1.64e-13\n",
      "C(fcode)[T.410565]    -1.6648      0.399     -4.172      0.000      -2.466      -0.863\n",
      "C(fcode)[T.410566]    -0.1337      0.403     -0.332      0.741      -0.943       0.675\n",
      "C(fcode)[T.410567]    -0.4746      0.367     -1.292      0.202      -1.212       0.263\n",
      "C(fcode)[T.410569] -6.941e-14   9.86e-14     -0.704      0.485   -2.67e-13    1.29e-13\n",
      "C(fcode)[T.410571]  5.879e-15   5.99e-15      0.982      0.331   -6.15e-15    1.79e-14\n",
      "C(fcode)[T.410577]     0.2321      0.367      0.633      0.530      -0.504       0.969\n",
      "C(fcode)[T.410586] -3.655e-15   1.75e-15     -2.087      0.042   -7.17e-15   -1.37e-16\n",
      "C(fcode)[T.410591] -1.008e-14   1.06e-14     -0.955      0.344   -3.13e-14    1.11e-14\n",
      "C(fcode)[T.410592]    -0.1145      0.402     -0.285      0.777      -0.922       0.693\n",
      "C(fcode)[T.410593]     0.0666      0.417      0.160      0.874      -0.772       0.905\n",
      "C(fcode)[T.410596]    -0.3634      0.398     -0.913      0.365      -1.163       0.436\n",
      "C(fcode)[T.410603] -1.722e-14   7.45e-15     -2.311      0.025   -3.22e-14   -2.25e-15\n",
      "C(fcode)[T.410604] -6.027e-15   8.57e-15     -0.703      0.485   -2.32e-14    1.12e-14\n",
      "C(fcode)[T.410606]     0.0688      0.410      0.168      0.868      -0.755       0.892\n",
      "C(fcode)[T.410609] -1.132e-15   4.59e-16     -2.464      0.017   -2.06e-15   -2.09e-16\n",
      "C(fcode)[T.410612]  1.402e-14   6.37e-15      2.201      0.032    1.23e-15    2.68e-14\n",
      "C(fcode)[T.410626]     0.0170      0.384      0.044      0.965      -0.755       0.789\n",
      "C(fcode)[T.410627]  -2.42e-15   2.65e-15     -0.913      0.366   -7.75e-15    2.91e-15\n",
      "C(fcode)[T.410629]    -0.3466      0.394     -0.880      0.383      -1.138       0.445\n",
      "C(fcode)[T.410635] -1.957e-14   7.14e-15     -2.742      0.008   -3.39e-14   -5.23e-15\n",
      "C(fcode)[T.410636]  3.795e-15   2.33e-15      1.630      0.109   -8.82e-16    8.47e-15\n",
      "C(fcode)[T.410639] -2.439e-14   9.51e-15     -2.566      0.013   -4.35e-14    -5.3e-15\n",
      "C(fcode)[T.410640]   1.34e-14   5.12e-15      2.619      0.012    3.12e-15    2.37e-14\n",
      "C(fcode)[T.410641] -7.892e-15   6.26e-15     -1.261      0.213   -2.05e-14    4.68e-15\n",
      "C(fcode)[T.410642]  1.187e-15   6.13e-16      1.936      0.059   -4.47e-17    2.42e-15\n",
      "C(fcode)[T.410649]  8.752e-15   5.09e-15      1.719      0.092   -1.48e-15     1.9e-14\n",
      "C(fcode)[T.410653]     0.1192      0.406      0.294      0.770      -0.696       0.934\n",
      "C(fcode)[T.410665]    -0.1715      0.405     -0.423      0.674      -0.985       0.642\n",
      "C(fcode)[T.410679]  2.641e-15   3.26e-15      0.810      0.422   -3.91e-15    9.19e-15\n",
      "C(fcode)[T.410680]  2.125e-14   8.97e-15      2.370      0.022    3.24e-15    3.93e-14\n",
      "C(fcode)[T.410685]     0.3473      0.395      0.879      0.384      -0.446       1.141\n",
      "C(fcode)[T.410686] -2.176e-14   7.97e-15     -2.730      0.009   -3.78e-14   -5.75e-15\n",
      "C(fcode)[T.418006] -3.301e-15   1.49e-15     -2.212      0.032    -6.3e-15   -3.03e-16\n",
      "C(fcode)[T.418007]  7.121e-15   4.83e-15      1.475      0.147   -2.58e-15    1.68e-14\n",
      "C(fcode)[T.418008] -7.688e-15   3.35e-15     -2.298      0.026   -1.44e-14   -9.68e-16\n",
      "C(fcode)[T.418011]    -0.6386      0.379     -1.686      0.098      -1.399       0.122\n",
      "C(fcode)[T.418013] -9.222e-15   4.75e-15     -1.943      0.058   -1.88e-14     3.1e-16\n",
      "C(fcode)[T.418014] -1.657e-15   1.62e-15     -1.024      0.311   -4.91e-15    1.59e-15\n",
      "C(fcode)[T.418021]     0.1077      0.414      0.260      0.796      -0.724       0.939\n",
      "C(fcode)[T.418024]  5.005e-15    3.7e-15      1.351      0.183   -2.43e-15    1.24e-14\n",
      "C(fcode)[T.418035]    -0.2010      0.389     -0.517      0.608      -0.983       0.581\n",
      "C(fcode)[T.418036] -2.892e-16   3.17e-16     -0.913      0.365   -9.25e-16    3.47e-16\n",
      "C(fcode)[T.418045]     0.0883      0.402      0.220      0.827      -0.719       0.896\n",
      "C(fcode)[T.418046]  1.179e-15    1.3e-15      0.906      0.369   -1.43e-15    3.79e-15\n",
      "C(fcode)[T.418051] -3.305e-15   2.83e-15     -1.167      0.249   -8.99e-15    2.38e-15\n",
      "C(fcode)[T.418052] -1.417e-15   2.29e-15     -0.620      0.538   -6.01e-15    3.18e-15\n",
      "C(fcode)[T.418054]     0.0785      0.364      0.215      0.830      -0.653       0.810\n",
      "C(fcode)[T.418065]     0.6541      0.901      0.726      0.471      -1.155       2.463\n",
      "C(fcode)[T.418066] -1.599e-15   1.18e-15     -1.356      0.181   -3.97e-15     7.7e-16\n",
      "C(fcode)[T.418076]    -0.5551      0.362     -1.535      0.131      -1.282       0.171\n",
      "C(fcode)[T.418083]    -0.2750      0.365     -0.753      0.455      -1.008       0.458\n",
      "C(fcode)[T.418084]  9.354e-16   9.16e-16      1.021      0.312   -9.05e-16    2.78e-15\n",
      "C(fcode)[T.418091]    -0.8553      0.518     -1.652      0.105      -1.895       0.185\n",
      "C(fcode)[T.418097]     0.2907      0.412      0.705      0.484      -0.538       1.119\n",
      "C(fcode)[T.418098]  3.043e-15   2.13e-15      1.426      0.160   -1.24e-15    7.33e-15\n",
      "C(fcode)[T.418107]    -0.2458      0.390     -0.630      0.532      -1.030       0.538\n",
      "C(fcode)[T.418109]  1.861e-15   1.97e-15      0.947      0.348   -2.09e-15    5.81e-15\n",
      "C(fcode)[T.418118]    -1.0371      0.409     -2.535      0.014      -1.859      -0.215\n",
      "C(fcode)[T.418124] -1.078e-15    7.9e-16     -1.364      0.179   -2.67e-15     5.1e-16\n",
      "C(fcode)[T.418125]     0.5437      0.434      1.251      0.217      -0.329       1.416\n",
      "C(fcode)[T.418126] -1.578e-15   1.55e-15     -1.017      0.314   -4.69e-15    1.54e-15\n",
      "C(fcode)[T.418140]    -0.4555      0.401     -1.136      0.261      -1.261       0.350\n",
      "C(fcode)[T.418147] -2.806e-16    2.3e-16     -1.221      0.228   -7.42e-16    1.81e-16\n",
      "C(fcode)[T.418163]     0.0662      0.362      0.183      0.856      -0.661       0.793\n",
      "C(fcode)[T.418168]     1.5699      0.413      3.797      0.000       0.739       2.400\n",
      "C(fcode)[T.418177]     0.3393      0.391      0.868      0.390      -0.446       1.125\n",
      "C(fcode)[T.418183]  2.605e-16   1.89e-16      1.377      0.175    -1.2e-16    6.41e-16\n",
      "C(fcode)[T.418185] -7.803e-15   5.39e-15     -1.448      0.154   -1.86e-14    3.02e-15\n",
      "C(fcode)[T.418213]  1.176e-19   8.75e-20      1.345      0.185   -5.81e-20    2.93e-19\n",
      "C(fcode)[T.418220]   2.64e-15   1.92e-15      1.376      0.175   -1.21e-15    6.49e-15\n",
      "C(fcode)[T.418225] -9.433e-18   7.21e-18     -1.308      0.197   -2.39e-17    5.06e-18\n",
      "C(fcode)[T.418229]  3.744e-15   2.53e-15      1.478      0.146   -1.34e-15    8.83e-15\n",
      "C(fcode)[T.418237]    -0.0527      0.392     -0.135      0.894      -0.839       0.734\n",
      "C(fcode)[T.418239]  3.668e-19   4.41e-18      0.083      0.934   -8.49e-18    9.22e-18\n",
      "C(fcode)[T.418243]  1.869e-17   8.43e-18      2.218      0.031    1.77e-18    3.56e-17\n",
      "C(fcode)[T.418245]  5.646e-18   7.13e-17      0.079      0.937   -1.38e-16    1.49e-16\n",
      "C(fcode)[T.419198]    -0.1765      0.417     -0.423      0.674      -1.014       0.661\n",
      "C(fcode)[T.419201]     0.0883      0.402      0.220      0.827      -0.719       0.896\n",
      "C(fcode)[T.419242]     0.3632      0.372      0.976      0.334      -0.384       1.111\n",
      "C(fcode)[T.419268]    -0.1248      0.425     -0.293      0.770      -0.979       0.730\n",
      "C(fcode)[T.419272]     0.0757      0.377      0.201      0.842      -0.682       0.833\n",
      "C(fcode)[T.419275]          0          0        nan        nan           0           0\n",
      "C(fcode)[T.419276]          0          0        nan        nan           0           0\n",
      "C(fcode)[T.419289]    -0.1175      0.411     -0.286      0.776      -0.944       0.709\n",
      "C(fcode)[T.419297]     0.5836      0.501      1.164      0.250      -0.424       1.591\n",
      "C(fcode)[T.419298]          0          0        nan        nan           0           0\n",
      "C(fcode)[T.419302]          0          0        nan        nan           0           0\n",
      "C(fcode)[T.419303]          0          0        nan        nan           0           0\n",
      "C(fcode)[T.419305]          0          0        nan        nan           0           0\n",
      "C(fcode)[T.419307]     0.6339      0.774      0.819      0.416      -0.920       2.188\n",
      "C(fcode)[T.419309]          0          0        nan        nan           0           0\n",
      "C(fcode)[T.419312]          0          0        nan        nan           0           0\n",
      "C(fcode)[T.419319]          0          0        nan        nan           0           0\n",
      "C(fcode)[T.419328]          0          0        nan        nan           0           0\n",
      "C(fcode)[T.419335]          0          0        nan        nan           0           0\n",
      "C(fcode)[T.419339]     0.1113      0.367      0.304      0.763      -0.625       0.848\n",
      "C(fcode)[T.419343]     0.2733      0.567      0.482      0.632      -0.865       1.411\n",
      "C(fcode)[T.419344]          0          0        nan        nan           0           0\n",
      "C(fcode)[T.419347]          0          0        nan        nan           0           0\n",
      "C(fcode)[T.419351]          0          0        nan        nan           0           0\n",
      "C(fcode)[T.419357]    -0.4621      0.362     -1.277      0.207      -1.189       0.264\n",
      "C(fcode)[T.419375]          0          0        nan        nan           0           0\n",
      "C(fcode)[T.419376]          0          0        nan        nan           0           0\n",
      "C(fcode)[T.419378]    -0.2088      0.390     -0.535      0.595      -0.993       0.575\n",
      "C(fcode)[T.419379]          0          0        nan        nan           0           0\n",
      "C(fcode)[T.419380]          0          0        nan        nan           0           0\n",
      "C(fcode)[T.419381]    -0.1640      0.416     -0.394      0.695      -1.000       0.672\n",
      "C(fcode)[T.419384]          0          0        nan        nan           0           0\n",
      "C(fcode)[T.419388]    -0.1489      0.384     -0.387      0.700      -0.921       0.623\n",
      "C(fcode)[T.419392]          0          0        nan        nan           0           0\n",
      "C(fcode)[T.419400]          0          0        nan        nan           0           0\n",
      "C(fcode)[T.419401]          0          0        nan        nan           0           0\n",
      "C(fcode)[T.419406]          0          0        nan        nan           0           0\n",
      "C(fcode)[T.419409]     0.1797      0.361      0.497      0.621      -0.546       0.906\n",
      "C(fcode)[T.419410]          0          0        nan        nan           0           0\n",
      "C(fcode)[T.419420]          0          0        nan        nan           0           0\n",
      "C(fcode)[T.419432]     0.7681      0.900      0.853      0.398      -1.040       2.577\n",
      "C(fcode)[T.419433]          0          0        nan        nan           0           0\n",
      "C(fcode)[T.419434]          0          0        nan        nan           0           0\n",
      "C(fcode)[T.419449]          0          0        nan        nan           0           0\n",
      "C(fcode)[T.419450]          0          0        nan        nan           0           0\n",
      "C(fcode)[T.419459]     0.2349      0.503      0.467      0.642      -0.775       1.244\n",
      "C(fcode)[T.419461]          0          0        nan        nan           0           0\n",
      "C(fcode)[T.419467]          0          0        nan        nan           0           0\n",
      "C(fcode)[T.419472]          0          0        nan        nan           0           0\n",
      "C(fcode)[T.419473]          0          0        nan        nan           0           0\n",
      "C(fcode)[T.419479]          0          0        nan        nan           0           0\n",
      "C(fcode)[T.419482]     0.1097      0.400      0.274      0.785      -0.694       0.913\n",
      "C(fcode)[T.419483]     0.5150      0.397      1.297      0.200      -0.282       1.312\n",
      "C(fcode)[T.419486]          0          0        nan        nan           0           0\n",
      "grant                 -0.0475      0.143     -0.333      0.741      -0.334       0.239\n",
      "employ                -0.0022      0.003     -0.660      0.512      -0.009       0.004\n",
      "==============================================================================\n",
      "Omnibus:                       17.255   Durbin-Watson:                   3.049\n",
      "Prob(Omnibus):                  0.000   Jarque-Bera (JB):               82.359\n",
      "Skew:                          -0.000   Prob(JB):                     1.31e-18\n",
      "Kurtosis:                       7.339   Cond. No.                     2.61e+18\n",
      "==============================================================================\n",
      "\n",
      "Warnings:\n",
      "[1] Standard Errors assume that the covariance matrix of the errors is correctly specified.\n",
      "[2] The input rank is higher than the number of observations.\n",
      "[3] The smallest eigenvalue is 1.81e-31. This might indicate that there are\n",
      "strong multicollinearity problems or that the design matrix is singular.\n"
     ]
    }
   ],
   "source": [
    "#fixed effect model is not more than adding a dummy to OLS model\n",
    "data = jobtraining.load()\n",
    "data.year = pd.Categorical(data.year)\n",
    "FE_ols = smf.ols(formula= 'clscrap ~ 1 + grant + employ + C(fcode)', data = data).fit()\n",
    "print(FE_ols.summary())\n",
    "#be careful with R-square "
   ]
  },
  {
   "cell_type": "markdown",
   "metadata": {},
   "source": [
    "source: https://medium.com/pew-research-center-decoded/using-fixed-and-random-effects-models-for-panel-data-in-python-a795865736ab"
   ]
  },
  {
   "cell_type": "markdown",
   "metadata": {},
   "source": [
    "# LOGIT"
   ]
  },
  {
   "cell_type": "markdown",
   "metadata": {},
   "source": [
    "1- load the data header 0\n",
    "2- drop NA\n",
    "print shape\n",
    "print the name of the fields"
   ]
  },
  {
   "cell_type": "code",
   "execution_count": 35,
   "metadata": {},
   "outputs": [],
   "source": [
    "import pandas as pd\n",
    "import numpy as np\n",
    "from sklearn import preprocessing\n",
    "import matplotlib.pyplot as plt\n",
    "plt.rc('font', size=14)\n",
    "from sklearn.linear_model import LogisticRegression\n",
    "from sklearn.model_selection import train_test_split\n",
    "import seaborn as sns\n",
    "sns.set(style= 'white')\n",
    "sns.set(style='whitegrid', color_codes=True)"
   ]
  },
  {
   "cell_type": "code",
   "execution_count": 36,
   "metadata": {},
   "outputs": [],
   "source": [
    "import csv"
   ]
  },
  {
   "cell_type": "code",
   "execution_count": 38,
   "metadata": {},
   "outputs": [
    {
     "name": "stdout",
     "output_type": "stream",
     "text": [
      "(41188, 21)\n",
      "['age', 'job', 'marital', 'education', 'default', 'housing', 'loan', 'contact', 'month', 'day_of_week', 'duration', 'campaign', 'pdays', 'previous', 'poutcome', 'emp_var_rate', 'cons_price_idx', 'cons_conf_idx', 'euribor3m', 'nr_employed', 'y']\n"
     ]
    }
   ],
   "source": [
    "data = pd.read_csv('add the data set here')\n",
    "data = data.dropna()\n",
    "print(data.shape)\n",
    "print(list(data.columns))"
   ]
  },
  {
   "cell_type": "code",
   "execution_count": 39,
   "metadata": {},
   "outputs": [
    {
     "data": {
      "text/plain": [
       "array(['Basic', 'unknown', 'university.degree', 'high.school',\n",
       "       'professional.course', 'illiterate'], dtype=object)"
      ]
     },
     "execution_count": 39,
     "metadata": {},
     "output_type": "execute_result"
    }
   ],
   "source": [
    "data['education']= np.where(data['education']== 'basic.9y','Basic',data['education'])\n",
    "data['education']= np.where(data['education']== 'basic.6y','Basic',data['education'])\n",
    "data['education']= np.where(data['education']== 'basic.4y','Basic',data['education'])\n",
    "data['education'].unique()"
   ]
  },
  {
   "cell_type": "code",
   "execution_count": 40,
   "metadata": {},
   "outputs": [
    {
     "data": {
      "text/plain": [
       "0    36548\n",
       "1     4640\n",
       "Name: y, dtype: int64"
      ]
     },
     "execution_count": 40,
     "metadata": {},
     "output_type": "execute_result"
    }
   ],
   "source": [
    "data['y'].value_counts()"
   ]
  },
  {
   "cell_type": "code",
   "execution_count": 49,
   "metadata": {},
   "outputs": [
    {
     "data": {
      "image/png": "[encoded data removed]",
      "text/plain": [
       "<Figure size 432x288 with 1 Axes>"
      ]
     },
     "metadata": {},
     "output_type": "display_data"
    },
    {
     "data": {
      "text/plain": [
       "<Figure size 432x288 with 0 Axes>"
      ]
     },
     "metadata": {},
     "output_type": "display_data"
    }
   ],
   "source": [
    "sns.countplot(x= 'y' ,data = data)\n",
    "plt.show()\n",
    "plt.savefig('count_plot')"
   ]
  },
  {
   "cell_type": "code",
   "execution_count": 47,
   "metadata": {},
   "outputs": [],
   "source": []
  },
  {
   "cell_type": "code",
   "execution_count": 51,
   "metadata": {},
   "outputs": [],
   "source": [
    "cat_vars= ['job','marital', 'education', 'default', 'housing', 'loan', 'contact', 'month', 'day_of_week','poutcome']\n",
    "\n",
    "for var in cat_vars:\n",
    "    car_list = 'var' + '_' + var\n",
    "    cat_list = pd.get_dummies(data[var], prefix=var)\n",
    "    data1= data.join(cat_list)\n",
    "    data=data1\n",
    "\n",
    "cat_vars= ['job','marital', 'education', 'default', 'housing', 'loan', 'contact', 'month', 'day_of_week','poutcome']\n",
    "data_vars = data.columns.values.tolist()\n",
    "to_keep = [i for i in data_vars if i not in cat_vars]"
   ]
  },
  {
   "cell_type": "code",
   "execution_count": 52,
   "metadata": {},
   "outputs": [
    {
     "name": "stdout",
     "output_type": "stream",
     "text": [
      "       age          job  marital            education  default housing loan  \\\n",
      "0       44  blue-collar  married                Basic  unknown     yes   no   \n",
      "1       53   technician  married              unknown       no      no   no   \n",
      "2       28   management   single    university.degree       no     yes   no   \n",
      "3       39     services  married          high.school       no      no   no   \n",
      "4       55      retired  married                Basic       no     yes   no   \n",
      "...    ...          ...      ...                  ...      ...     ...  ...   \n",
      "41183   59      retired  married          high.school  unknown      no  yes   \n",
      "41184   31    housemaid  married                Basic  unknown      no   no   \n",
      "41185   42       admin.   single    university.degree  unknown     yes  yes   \n",
      "41186   48   technician  married  professional.course       no      no  yes   \n",
      "41187   25      student   single          high.school       no      no   no   \n",
      "\n",
      "         contact month day_of_week  ...  month_oct  month_sep  \\\n",
      "0       cellular   aug         thu  ...          0          0   \n",
      "1       cellular   nov         fri  ...          0          0   \n",
      "2       cellular   jun         thu  ...          0          0   \n",
      "3       cellular   apr         fri  ...          0          0   \n",
      "4       cellular   aug         fri  ...          0          0   \n",
      "...          ...   ...         ...  ...        ...        ...   \n",
      "41183  telephone   jun         thu  ...          0          0   \n",
      "41184  telephone   may         thu  ...          0          0   \n",
      "41185  telephone   may         wed  ...          0          0   \n",
      "41186  telephone   oct         tue  ...          1          0   \n",
      "41187  telephone   may         fri  ...          0          0   \n",
      "\n",
      "       day_of_week_fri  day_of_week_mon day_of_week_thu  day_of_week_tue  \\\n",
      "0                    0                0               1                0   \n",
      "1                    1                0               0                0   \n",
      "2                    0                0               1                0   \n",
      "3                    1                0               0                0   \n",
      "4                    1                0               0                0   \n",
      "...                ...              ...             ...              ...   \n",
      "41183                0                0               1                0   \n",
      "41184                0                0               1                0   \n",
      "41185                0                0               0                0   \n",
      "41186                0                0               0                1   \n",
      "41187                1                0               0                0   \n",
      "\n",
      "       day_of_week_wed  poutcome_failure  poutcome_nonexistent  \\\n",
      "0                    0                 0                     1   \n",
      "1                    0                 0                     1   \n",
      "2                    0                 0                     0   \n",
      "3                    0                 0                     1   \n",
      "4                    0                 0                     0   \n",
      "...                ...               ...                   ...   \n",
      "41183                0                 0                     1   \n",
      "41184                0                 0                     1   \n",
      "41185                1                 0                     1   \n",
      "41186                0                 0                     1   \n",
      "41187                0                 0                     1   \n",
      "\n",
      "       poutcome_success  \n",
      "0                     0  \n",
      "1                     0  \n",
      "2                     1  \n",
      "3                     0  \n",
      "4                     1  \n",
      "...                 ...  \n",
      "41183                 0  \n",
      "41184                 0  \n",
      "41185                 0  \n",
      "41186                 0  \n",
      "41187                 0  \n",
      "\n",
      "[41188 rows x 72 columns]\n"
     ]
    }
   ],
   "source": [
    "print(data)"
   ]
  },
  {
   "cell_type": "code",
   "execution_count": 65,
   "metadata": {},
   "outputs": [
    {
     "data": {
      "text/plain": [
       "array(['age', 'duration', 'campaign', 'pdays', 'previous', 'emp_var_rate',\n",
       "       'cons_price_idx', 'cons_conf_idx', 'euribor3m', 'nr_employed', 'y',\n",
       "       'job_admin.', 'job_blue-collar', 'job_entrepreneur',\n",
       "       'job_housemaid', 'job_management', 'job_retired',\n",
       "       'job_self-employed', 'job_services', 'job_student',\n",
       "       'job_technician', 'job_unemployed', 'job_unknown',\n",
       "       'marital_divorced', 'marital_married', 'marital_single',\n",
       "       'marital_unknown', 'education_Basic', 'education_high.school',\n",
       "       'education_illiterate', 'education_professional.course',\n",
       "       'education_university.degree', 'education_unknown', 'default_no',\n",
       "       'default_unknown', 'default_yes', 'housing_no', 'housing_unknown',\n",
       "       'housing_yes', 'loan_no', 'loan_unknown', 'loan_yes',\n",
       "       'contact_cellular', 'contact_telephone', 'month_apr', 'month_aug',\n",
       "       'month_dec', 'month_jul', 'month_jun', 'month_mar', 'month_may',\n",
       "       'month_nov', 'month_oct', 'month_sep', 'day_of_week_fri',\n",
       "       'day_of_week_mon', 'day_of_week_thu', 'day_of_week_tue',\n",
       "       'day_of_week_wed', 'poutcome_failure', 'poutcome_nonexistent',\n",
       "       'poutcome_success'], dtype=object)"
      ]
     },
     "execution_count": 65,
     "metadata": {},
     "output_type": "execute_result"
    }
   ],
   "source": [
    "data_final = data[to_keep]\n",
    "data_final.columns.values"
   ]
  },
  {
   "cell_type": "markdown",
   "metadata": {},
   "source": [
    "from sklearn.linear_model import LogisticRegression\n",
    "from sklearn import metrics\n",
    "X = data_final.loc[:, data_final.columns != 'y']\n",
    "y = data_final.loc[:, data_final.columns == 'y']\n",
    "\n",
    "X_train, X_test, y_train, y_test = train_test_split(X, y, test_size=0.3, random_state=0)\n",
    "logreg = LogisticRegression()\n",
    "logreg.fit(X_train, y_train)"
   ]
  },
  {
   "cell_type": "code",
   "execution_count": null,
   "metadata": {},
   "outputs": [],
   "source": [
    "train_test_split splits arrays or matrices into random train and test subsets. That means that everytime you run it without specifying random_state, you will get a different result, this is expected behavior. \n",
    "\n",
    "For example: https://stackoverflow.com/questions/28064634/random-state-pseudo-random-number-in-scikit-learn"
   ]
  },
  {
   "cell_type": "markdown",
   "metadata": {},
   "source": [
    "### Explication on logistic reg\n",
    "\n",
    "Regression Y = AX + B\n",
    "\n",
    "Logistic Function 1/(1+e^(-x)\n",
    "\n",
    "Logistic Regression Y+ 1/(1+e^(AX + B)\n",
    "\n",
    "you're putting regression in the logistic function"
   ]
  },
  {
   "cell_type": "code",
   "execution_count": 67,
   "metadata": {},
   "outputs": [
    {
     "name": "stdout",
     "output_type": "stream",
     "text": [
      "(41188, 61)\n",
      "(41188, 1)\n"
     ]
    }
   ],
   "source": [
    "print(X.shape)\n",
    "print(y.shape)"
   ]
  },
  {
   "cell_type": "markdown",
   "metadata": {},
   "source": [
    "### be carefull with unbalanced datasets"
   ]
  },
  {
   "cell_type": "code",
   "execution_count": 68,
   "metadata": {},
   "outputs": [
    {
     "name": "stdout",
     "output_type": "stream",
     "text": [
      "Accuracy of logistic regression classification on test:  0.91\n"
     ]
    }
   ],
   "source": [
    "y_pred = logreg.predict(X_test)\n",
    "print('Accuracy of logistic regression classification on test: {: .2f}'.format(logreg.score(X_test, y_test)))"
   ]
  },
  {
   "cell_type": "code",
   "execution_count": 70,
   "metadata": {},
   "outputs": [
    {
     "name": "stdout",
     "output_type": "stream",
     "text": [
      "[[10708   273]\n",
      " [  807   569]]\n"
     ]
    }
   ],
   "source": [
    "from sklearn.metrics import confusion_matrix\n",
    "confusion_matrix = confusion_matrix(y_test, y_pred)\n",
    "print(confusion_matrix)"
   ]
  },
  {
   "cell_type": "markdown",
   "metadata": {},
   "source": [
    "### confusion_matrix\n",
    "positive negative the lignes reality, columns\n",
    "true neg, true pos, false neg, false pos \n",
    "\n",
    "its unbalanced\n",
    "more 0 s than 1\n",
    "by having more 0 \n",
    "100 lignes response var eather 0 and 1\n",
    "learn \n",
    "accuriy will be 99% bcs of \n",
    "presition when "
   ]
  },
  {
   "cell_type": "code",
   "execution_count": 71,
   "metadata": {},
   "outputs": [
    {
     "name": "stdout",
     "output_type": "stream",
     "text": [
      "              precision    recall  f1-score   support\n",
      "\n",
      "           0       0.93      0.98      0.95     10981\n",
      "           1       0.68      0.41      0.51      1376\n",
      "\n",
      "    accuracy                           0.91     12357\n",
      "   macro avg       0.80      0.69      0.73     12357\n",
      "weighted avg       0.90      0.91      0.90     12357\n",
      "\n"
     ]
    }
   ],
   "source": [
    "from sklearn.metrics import classification_report\n",
    "print (classification_report(y_test,y_pred))"
   ]
  },
  {
   "cell_type": "markdown",
   "metadata": {},
   "source": [
    "### precision = TP / (TP + FP)\n",
    "### recall = TP / (TP+FN)\n",
    "### f1-score = 2*(Recall*Precision) / (Recall+Precision)\n",
    "\n",
    "sometimes you dont care avout precission, you care more about recall\n",
    "\n",
    "#### why?\n",
    "unflag something than chack\n",
    "better to flag trop is ok -> BNP: 9 B euros due to failure in control \n",
    "we have to many false positive\n",
    "if juste one further chacking \n",
    "it cost 2000 euros to checking \n",
    "but its cost you 9 billion euros \n",
    "you need to be carefull to result you have\n",
    "\n",
    "ex: terrorist attackts, fraud "
   ]
  },
  {
   "cell_type": "code",
   "execution_count": 95,
   "metadata": {},
   "outputs": [
    {
     "ename": "SyntaxError",
     "evalue": "invalid syntax (<ipython-input-95-41504e730d24>, line 7)",
     "output_type": "error",
     "traceback": [
      "\u001b[0;36m  File \u001b[0;32m\"<ipython-input-95-41504e730d24>\"\u001b[0;36m, line \u001b[0;32m7\u001b[0m\n\u001b[0;31m    plt.plot([0,1],[0,1], 'r--')\u001b[0m\n\u001b[0m    ^\u001b[0m\n\u001b[0;31mSyntaxError\u001b[0m\u001b[0;31m:\u001b[0m invalid syntax\n"
     ]
    }
   ],
   "source": [
    "from sklearn.metrics import roc_auc_score\n",
    "from sklearn.metrics import roc_curve\n",
    "logit_roc_auc = roc_curve(y_test, logreg.predict(X_test))\n",
    "fpr, tpr, thresholds = roc_curve(y_test, logreg.predict_proba(X_test)[:,1])\n",
    "plt.figure()\n",
    "plt.plot(fpr, tpr, label='Logistic Regression (area = %0.2f)'% logit_roc_auc\n",
    "plt.plot([0,1],[0,1], 'r--')\n",
    "plt.xlim([0.0, 1.0])\n",
    "plt.ylim([0.0, 1.05])\n",
    "plt.xlabel('False Positive Rate')\n",
    "plt.ylabel('True Positive Rate')\n",
    "plt.title('Receiver operating characteristic')\n",
    "plt.legend(loc= 'lower right')\n",
    "plt.savefig('Log_ROC')\n",
    "plt.show()"
   ]
  },
  {
   "cell_type": "code",
   "execution_count": 96,
   "metadata": {},
   "outputs": [
    {
     "data": {
      "image/png": "[encoded data removed]",
      "text/plain": [
       "<Figure size 432x288 with 1 Axes>"
      ]
     },
     "metadata": {},
     "output_type": "display_data"
    }
   ],
   "source": [
    "from sklearn.metrics import roc_auc_score\n",
    "from sklearn.metrics import roc_curve\n",
    "logit_roc_auc = roc_curve(y_test, logreg.predict(X_test))\n",
    "fpr, tpr, thresholds = roc_curve(y_test, logreg.predict_proba(X_test)[:,1])\n",
    "plt.figure()\n",
    "plt.plot(fpr, tpr, label='log reg')\n",
    "plt.plot([0,1],[0,1], 'r--')\n",
    "plt.xlim([0.0, 1.0])\n",
    "plt.ylim([0.0, 1.05])\n",
    "plt.xlabel('False Positive Rate')\n",
    "plt.ylabel('True Positive Rate')\n",
    "plt.title('Receiver operating characteristic')\n",
    "plt.legend(loc= 'lower right')\n",
    "plt.savefig('Log_ROC')\n",
    "plt.show()"
   ]
  },
  {
   "cell_type": "code",
   "execution_count": null,
   "metadata": {},
   "outputs": [],
   "source": []
  }
 ],
 "metadata": {
  "kernelspec": {
   "display_name": "Python 3",
   "language": "python",
   "name": "python3"
  },
  "language_info": {
   "codemirror_mode": {
    "name": "ipython",
    "version": 3
   },
   "file_extension": ".py",
   "mimetype": "text/x-python",
   "name": "python",
   "nbconvert_exporter": "python",
   "pygments_lexer": "ipython3",
   "version": "3.8.3"
  }
 },
 "nbformat": 4,
 "nbformat_minor": 4
}
